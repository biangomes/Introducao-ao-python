{
 "cells": [
  {
   "cell_type": "markdown",
   "metadata": {},
   "source": [
    "# Aula 04\n",
    "## Controle de fluxo - download link: github.com/biangomes"
   ]
  },
  {
   "cell_type": "markdown",
   "metadata": {},
   "source": [
    "## IF"
   ]
  },
  {
   "cell_type": "code",
   "execution_count": null,
   "metadata": {},
   "outputs": [],
   "source": [
    "a = 4\n",
    "if (4%2) == 0:\n",
    "    print(\"4 é par.\")"
   ]
  },
  {
   "cell_type": "markdown",
   "metadata": {},
   "source": [
    "## Else\n",
    "o bloco if pode ser seguido pela instrução else, que contradiz o primeiro comando."
   ]
  },
  {
   "cell_type": "code",
   "execution_count": null,
   "metadata": {},
   "outputs": [],
   "source": [
    "a = 20\n",
    "if (a%2) == 0:\n",
    "    print(\"20 é par.\")\n",
    "else:\n",
    "    print(\"20 é ímpar.\")"
   ]
  },
  {
   "cell_type": "markdown",
   "metadata": {},
   "source": [
    "## Elif\n",
    "já o elif é a combinação do else com outra verificação, isto é, else + if = elif."
   ]
  },
  {
   "cell_type": "code",
   "execution_count": null,
   "metadata": {},
   "outputs": [],
   "source": [
    "if x < 0:\n",
    "    print(\"eh negativo.\")\n",
    "elif x == 0:\n",
    "    print(\"eh igual a zero.\")\n",
    "elif 0 < x < 5:\n",
    "    print(\"maior que 0 e menor que 5\")\n",
    "else:\n",
    "    print(\"maior que 5\")"
   ]
  },
  {
   "cell_type": "markdown",
   "metadata": {},
   "source": [
    "## Laço For"
   ]
  },
  {
   "cell_type": "code",
   "execution_count": null,
   "metadata": {
    "scrolled": true
   },
   "outputs": [],
   "source": [
    "sequencia = [\"Beatriz\", \"Ana\", \"André\"]\n",
    "for nome in sequencia:\n",
    "    print(nome)"
   ]
  },
  {
   "cell_type": "markdown",
   "metadata": {},
   "source": [
    "### continue: avança o for para a próxima iteração, ignorando o restante do bloco."
   ]
  },
  {
   "cell_type": "code",
   "execution_count": null,
   "metadata": {},
   "outputs": [],
   "source": [
    "outra_sequencia = [1, 3, None, 4, None]\n",
    "for valor in outra_sequencia:\n",
    "    if valor is None:\n",
    "        continue\n",
    "    else:\n",
    "        print(valor)"
   ]
  },
  {
   "cell_type": "markdown",
   "metadata": {},
   "source": [
    "### break: encerra o laço mais interno."
   ]
  },
  {
   "cell_type": "code",
   "execution_count": null,
   "metadata": {},
   "outputs": [],
   "source": [
    "outra_sequencia = [1, None, 2, None, 3, 4, None, 5, None, 6, 7, 8, 9, 10]\n",
    "for valor in outra_sequencia:\n",
    "    if valor == 2:\n",
    "        print(\"eh par.\")\n",
    "    elif valor is None:\n",
    "        break"
   ]
  },
  {
   "cell_type": "markdown",
   "metadata": {},
   "source": [
    "### range: devolve um iterador que produz uma sequência espaçada uniformemente.\n",
    "quando usamos o laço for, precisamos introduzir a função range, pois muitas vezes ela pode ser útil."
   ]
  },
  {
   "cell_type": "code",
   "execution_count": null,
   "metadata": {},
   "outputs": [],
   "source": [
    "# neste caso, 0 = início e 10 = fim.\n",
    "for i in range(0,10):\n",
    "    if (i%2)==0:\n",
    "        print(i,\" eh par.\")\n",
    "    elif (i%5) == 0:\n",
    "        print(i, \" eh divísivel por 5.\")\n",
    "    else:\n",
    "        print(i,\" eh so um numero.\")"
   ]
  },
  {
   "cell_type": "code",
   "execution_count": null,
   "metadata": {},
   "outputs": [],
   "source": [
    "# aqui o range possui um início, fim e o passo respectivamente.\n",
    "list(range(0,20,2))\n"
   ]
  },
  {
   "cell_type": "code",
   "execution_count": null,
   "metadata": {},
   "outputs": [],
   "source": [
    "list(range(5, 0,-1))"
   ]
  }
 ],
 "metadata": {
  "kernelspec": {
   "display_name": "Python 3",
   "language": "python",
   "name": "python3"
  },
  "language_info": {
   "codemirror_mode": {
    "name": "ipython",
    "version": 3
   },
   "file_extension": ".py",
   "mimetype": "text/x-python",
   "name": "python",
   "nbconvert_exporter": "python",
   "pygments_lexer": "ipython3",
   "version": "3.7.6"
  }
 },
 "nbformat": 4,
 "nbformat_minor": 4
}
