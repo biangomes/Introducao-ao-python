{
 "cells": [
  {
   "cell_type": "markdown",
   "metadata": {},
   "source": [
    "## Calculadora em Python."
   ]
  },
  {
   "cell_type": "code",
   "execution_count": null,
   "metadata": {},
   "outputs": [],
   "source": [
    "print(\"*\"*5, \"Calculadora em Python\", \"*\"*5)\n",
    "def adicao(n1, n2):\n",
    "    print(n1, \"+\", n2, \" = \", n1+n2)\n",
    "def subtracao(n1,n2):\n",
    "    print(n1, \"-\", n2, \" = \", n1-n2)\n",
    "def multiplicacao(n1, n2):\n",
    "    print(n1, \"x\", n2, \" = \", n1*n2)\n",
    "def divisao(n1,n2):\n",
    "    print(n1, \"/\", n2, \" = \", n1/n2)\n",
    "\n",
    "operacao = int(input(\"Escolha qual operação deseja utilizar:\\n1 - Adição\\n2 - Subtração\\n3 - Divisão\\n4 - Multiplicação\\n\"))\n",
    "\n",
    "n1 = float(input(\"n1 = \"))\n",
    "n2 = float(input(\"n2 = \"))\n",
    "\n",
    "if (operacao==1):\n",
    "    print(adicao(n1,n2))\n",
    "    \n",
    "elif (operacao==2):\n",
    "    print(subtracao(n1, n2))\n",
    "\n",
    "elif (operacao==3):\n",
    "    print(divisao(n1, n2))\n",
    "\n",
    "elif (operacao==4):\n",
    "    print(multiplicacao(n1, n2))\n",
    "\n",
    "else:\n",
    "    print(\"Opção inválida.\")\n"
   ]
  }
 ],
 "metadata": {
  "kernelspec": {
   "display_name": "Python 3",
   "language": "python",
   "name": "python3"
  },
  "language_info": {
   "codemirror_mode": {
    "name": "ipython",
    "version": 3
   },
   "file_extension": ".py",
   "mimetype": "text/x-python",
   "name": "python",
   "nbconvert_exporter": "python",
   "pygments_lexer": "ipython3",
   "version": "3.7.6"
  }
 },
 "nbformat": 4,
 "nbformat_minor": 4
}
